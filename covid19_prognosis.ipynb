{
 "cells": [
  {
   "cell_type": "markdown",
   "id": "capable-transfer",
   "metadata": {},
   "source": [
    "<a id='index'></a>\n",
    "# Index\n",
    "* <a href='#introduction'>Introduction</a>\n",
    "* <a href='#preprocessing'>Preprocessing</a>"
   ]
  },
  {
   "cell_type": "markdown",
   "id": "neither-hazard",
   "metadata": {},
   "source": [
    "<a href='#index'>...</a>\n",
    "<a id='introduction'></a>\n",
    "# Introduction"
   ]
  },
  {
   "cell_type": "markdown",
   "id": "curious-terrace",
   "metadata": {},
   "source": [
    "TODO"
   ]
  },
  {
   "cell_type": "code",
   "execution_count": 213,
   "id": "mediterranean-seafood",
   "metadata": {},
   "outputs": [],
   "source": [
    "import pandas as pd\n",
    "import sklearn\n",
    "import matplotlib.pyplot as plt\n",
    "import numpy as np\n",
    "import seaborn as sns\n",
    "from tqdm.notebook import tqdm\n",
    "from scipy import stats\n",
    "import warnings"
   ]
  },
  {
   "cell_type": "markdown",
   "id": "together-backing",
   "metadata": {},
   "source": [
    "<a href='#index'>...</a>\n",
    "<a id='preprocessing'></a>\n",
    "# Preprocessing"
   ]
  },
  {
   "cell_type": "markdown",
   "id": "assumed-spirit",
   "metadata": {},
   "source": [
    "### Preprocessing function definition"
   ]
  },
  {
   "cell_type": "code",
   "execution_count": 3,
   "id": "colored-participation",
   "metadata": {},
   "outputs": [],
   "source": [
    "def set_display_range(range_columns=pd.options.display.max_columns, range_rows=pd.options.display.max_rows, reset_columns=0, reset_rows=0):\n",
    "    pd.set_option('display.max_columns', range_columns)\n",
    "    pd.set_option('display.max_rows', range_rows)\n",
    "    if (reset_columns): pd.reset_option('display.max_columns')\n",
    "    if (reset_rows): pd.reset_option('display.max_rows')\n",
    "\n",
    "set_display_range(range_columns=None)"
   ]
  },
  {
   "cell_type": "code",
   "execution_count": 4,
   "id": "employed-memorial",
   "metadata": {},
   "outputs": [],
   "source": [
    "def column_percentage(df, column, main_label):\n",
    "    try:\n",
    "        return len(df.loc[df[column]==main_label])/len(df)\n",
    "    except:\n",
    "        return -1"
   ]
  },
  {
   "cell_type": "code",
   "execution_count": 211,
   "id": "social-acrylic",
   "metadata": {},
   "outputs": [],
   "source": [
    "def custom_plot(df, columns, dim_x, dim_y, main_title='SAMPLE TITLE', titles=None):\n",
    "    col = 0\n",
    "    if (titles == None) : titles=columns \n",
    "    fig, axes = plt.subplots(dim_x, dim_y, figsize=(16,8))\n",
    "    fig.suptitle(main_title)\n",
    "    for i in range(dim_x):\n",
    "        for j in range(dim_y):\n",
    "            with warnings.catch_warnings():\n",
    "                warnings.simplefilter('ignore')\n",
    "                ax = sns.distplot(ax=axes[i,j], x=df[columns[col]], color='#388E3C') # hist=True\n",
    "            kde_x, kde_y = ax.lines[0].get_data()\n",
    "            ax.fill_between(kde_x, kde_y, where=(kde_x<20), interpolate=True, color='#EF9A9A')\n",
    "            axes[i,j].set_title(titles[col])  \n",
    "            col+=1"
   ]
  },
  {
   "cell_type": "markdown",
   "id": "cognitive-opinion",
   "metadata": {},
   "source": [
    "### Data loading <a id='second-bullet'></a>"
   ]
  },
  {
   "cell_type": "code",
   "execution_count": 142,
   "id": "developed-seminar",
   "metadata": {},
   "outputs": [],
   "source": [
    "root_folder = '../CDSL_HM_20200720_RAW'"
   ]
  },
  {
   "cell_type": "code",
   "execution_count": 150,
   "id": "deluxe-portfolio",
   "metadata": {},
   "outputs": [],
   "source": [
    "# CDSL_01\n",
    "df_patient = pd.read_csv(root_folder+'/CDSL_01.csv', sep=';')\n",
    "# CDSL_02\n",
    "df_med = pd.read_csv(root_folder+'/CDSL_02.csv', sep=';')#, encoding='iso-8859-1')\n",
    "# CDSL_03\n",
    "df_vital = pd.read_csv(root_folder+'/CDSL_03.csv', sep=';')\n",
    "# CDSL_05 (emergency)\n",
    "df_ICD10_emer = pd.read_csv(root_folder+'/CDSL_05.csv', sep=';')\n",
    "# CDSL_06  (admission)\n",
    "df_ICD10_adm = pd.read_csv(root_folder+'/CDSL_06.csv', sep=';')"
   ]
  },
  {
   "cell_type": "code",
   "execution_count": 144,
   "id": "permanent-equivalent",
   "metadata": {},
   "outputs": [
    {
     "name": "stderr",
     "output_type": "stream",
     "text": [
      "b'Skipping line 28039: expected 8 fields, saw 12\\nSkipping line 32182: expected 8 fields, saw 12\\nSkipping line 44299: expected 8 fields, saw 12\\n'\n",
      "b'Skipping line 90790: expected 8 fields, saw 12\\nSkipping line 105234: expected 8 fields, saw 12\\nSkipping line 130735: expected 8 fields, saw 10\\n'\n",
      "b'Skipping line 136659: expected 8 fields, saw 10\\nSkipping line 140398: expected 8 fields, saw 10\\nSkipping line 141687: expected 8 fields, saw 12\\nSkipping line 142745: expected 8 fields, saw 12\\nSkipping line 170183: expected 8 fields, saw 12\\n'\n",
      "b'Skipping line 223336: expected 8 fields, saw 21\\nSkipping line 237392: expected 8 fields, saw 12\\n'\n",
      "b'Skipping line 373889: expected 8 fields, saw 12\\nSkipping line 382978: expected 8 fields, saw 10\\n'\n",
      "b'Skipping line 412136: expected 8 fields, saw 12\\nSkipping line 419764: expected 8 fields, saw 12\\nSkipping line 421226: expected 8 fields, saw 12\\nSkipping line 426429: expected 8 fields, saw 11\\nSkipping line 444865: expected 8 fields, saw 12\\n'\n",
      "b'Skipping line 470999: expected 8 fields, saw 12\\n'\n",
      "b'Skipping line 524605: expected 8 fields, saw 12\\nSkipping line 534535: expected 8 fields, saw 12\\nSkipping line 546968: expected 8 fields, saw 12\\nSkipping line 564430: expected 8 fields, saw 12\\n'\n"
     ]
    }
   ],
   "source": [
    "# CDSL_04\n",
    "df_lab = pd.read_csv(root_folder+'/CDSL_04.csv', sep=';', error_bad_lines=False, encoding='iso-8859-1')"
   ]
  },
  {
   "cell_type": "code",
   "execution_count": 151,
   "id": "skilled-significance",
   "metadata": {},
   "outputs": [],
   "source": [
    "df_patient = df_patient.rename(columns=\n",
    "                        {\"PATIENT ID\":\"PATIENT_ID\", \"EDAD/AGE\":\"AGE\", \"SEXO/SEX\":\"SEX\", \"DIAG ING/INPAT\":\"DIAG_INPAT\", \n",
    "                        \"F_INGRESO/ADMISSION_D_ING/INPAT\":\"ADMISSION_DATE_INPAT\",\"HORA/TIME_ADMISION/ADMISSION_URG/EMERG\":\n",
    "                         \"TIME_ADMISSION_EMERG\",\"F_ENTRADA_UC/ICU_DATE_IN\":\"ICU_DATE_IN\", \n",
    "                        \"F_SALIDA_UCI/ICU_DATE_OUT\":\"ICU_DATE_OUT\",\"UCI_DIAS/ICU_DAYS\": \"ICU_DAYS\", \n",
    "                        \"RESPIRADOR/MECH.VENT.\":\"MECH.VENT.\", \"F_ALTA/DISCHARGE_DATE_ING\":\"DISCHARGE_DATE_ING\", \n",
    "                        \"MOTIVO_ALTA/DESTINY_DISCHARGE_ING\":\"DESTINY_DISCHARGE_ING\",\"F_INGRESO/ADMISSION_DATE_URG/EMERG\":\n",
    "                        \"ADMISSION_DATE_EMERG\", \"HORA/TIME_ADMISION/ADMISSION_EMERG/EMERG\":\"TIME_ADMISION_EMERG\", \n",
    "                        \"ESPECIALIDAD/DEPARTMENT_URG/EMERG\":\"DEPARTMENT_EMERG\",\"DIAG_URG/EMERG\":\"DIAG_EMERG\", \n",
    "                        \"DESTINO/DESTINY_URG/EMERG\":\"DESTINY_EMERG\", \"HORA/TIME_CONSTANT_PRIMERA/FIRST_URG/EMERG\" : \n",
    "                        \"TIME_CONSTANT_FIRST_EMERG\", \"TEMP_PRIMERA/FIRST_URG/EMERG\":\"TEMP_FIRST_EMERG\", \"FC/HR_PRIMERA/FIRST_URG/EMERG\": \n",
    "                        \"HR_FIRST_EMERG\", \"GLU_PRIMERA/FIRST_URG/EMERG\":\"GLU_FIRST_EMERG\", \"SAT_02_PRIMERA/FIRST_URG/EMERG\":\n",
    "                        \"SAT_02_FIRST_EMERG\", \"TA_MAX_PRIMERA/FIRST/EMERG_URG\":\"TA_MAX_FIRST_EMERG\", \"TA_MIN_PRIMERA/FIRST_URG/EMERG\":\n",
    "                        \"TA_MIN_FIRST_EMERG\", \"HORA/TIME_CONSTANT_ULTIMA/LAST_URG/EMERG\":\"TIME_CONSTANT_LAST_EMERG\", \n",
    "                        \"FC/HR_ULTIMA/LAST_URG/EMERG\":\"HR_LAST_EMERG\", \"TEMP_ULTIMA/LAST_URG/EMERG\":\"TEMP_LAST_EMERG\", \n",
    "                        \"GLU_ULTIMA/LAST_URG/EMERG\":\"GLU_LAST_EMERG\", \"SAT_02_ULTIMA/LAST_URG/EMERG\":\"SAT_02_LAST_EMERG\", \n",
    "                        \"TA_MAX_ULTIMA/LAST_URGEMERG\":\"TA_MAX_LAST_EMERG\", \"TA_MIN_ULTIMA/LAST_URG/EMERG\":\"TA_MIN_LAST_EMERG\"})\n",
    "\n",
    "custom_columns = ['PATIENT_ID', 'AGE', 'SEX', \n",
    "                  'DIAG_INPAT', 'ADMISSION_DATE_INPAT',\n",
    "                  'ADMISSION_DATE_EMERG','DISCHARGE_DATE_ING','TIME_ADMISSION_EMERG', \n",
    "                  'DEPARTMENT_EMERG', 'DIAG_EMERG','DESTINY_EMERG',\n",
    "                  'ICU_DATE_IN', 'ICU_DATE_OUT','ICU_DAYS', \n",
    "                  'MECH.VENT.', 'TIME_CONSTANT_FIRST_EMERG', 'TIME_CONSTANT_LAST_EMERG', \n",
    "                  'HR_FIRST_EMERG','HR_LAST_EMERG',\n",
    "                  'SAT_02_FIRST_EMERG', 'SAT_02_LAST_EMERG',\n",
    "                  'TA_MAX_FIRST_EMERG','TA_MAX_LAST_EMERG',\n",
    "                  'TA_MIN_FIRST_EMERG','TA_MIN_LAST_EMERG', \n",
    "                  'TEMP_FIRST_EMERG','TEMP_LAST_EMERG',\n",
    "                  'GLU_FIRST_EMERG','GLU_LAST_EMERG',\n",
    "                  'DESTINY_DISCHARGE_ING']\n",
    "\n",
    "df_patient = df_patient.reindex(columns=custom_columns)"
   ]
  },
  {
   "cell_type": "code",
   "execution_count": 152,
   "id": "reliable-compilation",
   "metadata": {},
   "outputs": [
    {
     "data": {
      "text/plain": [
       "228"
      ]
     },
     "execution_count": 152,
     "metadata": {},
     "output_type": "execute_result"
    }
   ],
   "source": [
    "# EXPERIMENTACION\n",
    "# TODAS LAS FILAS QUE CONTIENEN ALGO DE ICU TIENEN LAS 3 COLUMNAS COMPLETAS\n",
    "len(df_patient[(~df_patient['ICU_DATE_IN'].isnull())&(~df_patient['ICU_DATE_OUT'].isnull())&(~df_patient['ICU_DAYS'].isnull())])"
   ]
  },
  {
   "cell_type": "code",
   "execution_count": 153,
   "id": "mature-creation",
   "metadata": {},
   "outputs": [
    {
     "name": "stdout",
     "output_type": "stream",
     "text": [
      "MALE/FEMALE %: 0.59%\n",
      "CONFIRMED COVID/SUSPECTED COVID %: 0.91%\n",
      "DECEASED/OTHERWISE %: 0.15%\n",
      "Inpatients without being in ER: 90. Inpatients being in ER: 2457\n"
     ]
    }
   ],
   "source": [
    "print(\"MALE/FEMALE %: {:.2f}%\".format(column_percentage(df_patient,'SEX','MALE')))\n",
    "print(\"CONFIRMED COVID/SUSPECTED COVID %: {:.2f}%\".format(column_percentage(df_patient,'DIAG_INPAT','COVID CONFIRMADO')))\n",
    "print(\"DECEASED/OTHERWISE %: {:.2f}%\".format(column_percentage(df_patient,'DESTINY_DISCHARGE_ING','Fallecimiento')))\n",
    "print(\"Inpatients without being in ER: {}. Inpatients being in ER: {}\".format(\\\n",
    "      df_patient.shape[0] - len(df_patient[~df_patient['ADMISSION_DATE_EMERG'].isnull()]), \\\n",
    "      len(df_patient[~df_patient['ADMISSION_DATE_EMERG'].isnull()])))"
   ]
  },
  {
   "cell_type": "code",
   "execution_count": 154,
   "id": "electric-salad",
   "metadata": {},
   "outputs": [],
   "source": [
    "# Create ICU feature\n",
    "df_patient['ICU']=0\n",
    "df_patient.loc[~df_patient['ICU_DAYS'].isnull(),['ICU']]=1\n",
    "# Create ER feature\n",
    "df_patient['ER']=0\n",
    "df_patient.loc[~df_patient['ADMISSION_DATE_EMERG'].isnull(),['ER']]=1"
   ]
  },
  {
   "cell_type": "code",
   "execution_count": 156,
   "id": "packed-theory",
   "metadata": {},
   "outputs": [],
   "source": [
    "# REMOVE COLUMNS OF DATES (WHY USE THEM?): 'ICU_DATE_IN','ICU_DATE_OUT','ICU_DAYS','TIME_ADMISSION_EMERG',\n",
    "                                          # 'DISCHARGE_DATE_ING', 'TIME_CONSTANT_FIRST_EMERG'\n",
    "# REMOVE ADMISSION DATES TOO...           # 'ADMISSION_DATE_INPAT', 'ADMISSION_DATE_EMERG'  \n",
    "\n",
    "# REMOVE LAST CHECK COLUMNS (?): 'TIME_CONSTANT_LAST_EMERG', 'HR_LAST_EMERG', 'SAT_02_LAST_EMERG', \n",
    "                                # TA_MIN_LAST_EMERG', 'TA_MAX_LAST_EMERG',\n",
    "                                # 'TEMP_LAST_EMERG', 'GLU_LAST_EMERG'\n",
    "        \n",
    "# REMOVE 'DESTINY_EMERG', all samples are \"ingresado\"\n",
    "\n",
    "df_patient = df_patient.drop(columns=['ICU_DATE_IN','ICU_DATE_OUT','ICU_DAYS','TIME_ADMISSION_EMERG',\n",
    "                                      'DISCHARGE_DATE_ING','TIME_CONSTANT_LAST_EMERG', 'HR_LAST_EMERG',\n",
    "                                      'SAT_02_LAST_EMERG', 'TA_MIN_LAST_EMERG', 'TA_MAX_LAST_EMERG',\n",
    "                                      'TEMP_LAST_EMERG', 'GLU_LAST_EMERG','DESTINY_EMERG','TIME_CONSTANT_FIRST_EMERG',\n",
    "                                      'ADMISSION_DATE_INPAT','ADMISSION_DATE_EMERG'])\n"
   ]
  },
  {
   "cell_type": "code",
   "execution_count": 35,
   "id": "instrumental-crazy",
   "metadata": {},
   "outputs": [
    {
     "data": {
      "text/plain": [
       "2511"
      ]
     },
     "execution_count": 35,
     "metadata": {},
     "output_type": "execute_result"
    }
   ],
   "source": [
    "len(set(df_vital['IDINGRESO'].unique()).intersection(set(df_med['IDINGRESO'].unique())))"
   ]
  },
  {
   "cell_type": "code",
   "execution_count": 157,
   "id": "regional-imperial",
   "metadata": {},
   "outputs": [
    {
     "name": "stdout",
     "output_type": "stream",
     "text": [
      "<class 'pandas.core.frame.DataFrame'>\n",
      "RangeIndex: 2547 entries, 0 to 2546\n",
      "Data columns (total 16 columns):\n",
      " #   Column                 Non-Null Count  Dtype  \n",
      "---  ------                 --------------  -----  \n",
      " 0   PATIENT_ID             2547 non-null   int64  \n",
      " 1   AGE                    2547 non-null   int64  \n",
      " 2   SEX                    2547 non-null   object \n",
      " 3   DIAG_INPAT             2547 non-null   object \n",
      " 4   DEPARTMENT_EMERG       2457 non-null   object \n",
      " 5   DIAG_EMERG             2457 non-null   object \n",
      " 6   MECH.VENT.             1360 non-null   object \n",
      " 7   HR_FIRST_EMERG         2547 non-null   int64  \n",
      " 8   SAT_02_FIRST_EMERG     2547 non-null   int64  \n",
      " 9   TA_MAX_FIRST_EMERG     2547 non-null   int64  \n",
      " 10  TA_MIN_FIRST_EMERG     2547 non-null   int64  \n",
      " 11  TEMP_FIRST_EMERG       2547 non-null   float64\n",
      " 12  GLU_FIRST_EMERG        2547 non-null   int64  \n",
      " 13  DESTINY_DISCHARGE_ING  2498 non-null   object \n",
      " 14  ICU                    2547 non-null   int64  \n",
      " 15  ER                     2547 non-null   int64  \n",
      "dtypes: float64(1), int64(9), object(6)\n",
      "memory usage: 318.5+ KB\n"
     ]
    }
   ],
   "source": [
    "# df_patient = df_patient.drop(columns=['ADMISSION_DATE_INPAT','ADMISSION_DATE_EMERG'])\n",
    "df_patient.info()\n"
   ]
  },
  {
   "cell_type": "markdown",
   "id": "southwest-large",
   "metadata": {},
   "source": [
    "### Imputation\n",
    "\n",
    "Imputation for categorical values:"
   ]
  },
  {
   "cell_type": "code",
   "execution_count": 158,
   "id": "clean-dimension",
   "metadata": {},
   "outputs": [],
   "source": [
    "# DIAG_EMERG\n",
    "df_patient['DIAG_EMERG']=df_patient['DIAG_EMERG'].fillna(value='Unknown')\n",
    "df_patient['DIAG_EMERG']=df_patient['DIAG_EMERG'].astype(\"category\")\n",
    "# MECHANICAL VENTILATION\n",
    "df_patient['MECH.VENT.']=df_patient['MECH.VENT.'].fillna(value='NO')\n",
    "df_patient['MECH.VENT.']=df_patient['MECH.VENT.'].astype(\"category\")\n",
    "# MECHANICAL VENTILATION\n",
    "df_patient['DEPARTMENT_EMERG']=df_patient['DEPARTMENT_EMERG'].fillna(value='Unknown')\n",
    "df_patient['DEPARTMENT_EMERG']=df_patient['DEPARTMENT_EMERG'].astype(\"category\")\n",
    "# DESTINY_DISCHARGE_ING\n",
    "df_patient['DESTINY_DISCHARGE_ING']=df_patient['DESTINY_DISCHARGE_ING'].fillna(value='Unknown')\n",
    "df_patient['DESTINY_DISCHARGE_ING']=df_patient['DESTINY_DISCHARGE_ING'].astype(\"category\")\n",
    "# SEX\n",
    "df_patient['SEX']=df_patient['SEX'].astype(\"category\")\n",
    "# DIAG_INPAT\n",
    "df_patient['DIAG_INPAT']=df_patient['DIAG_INPAT'].astype(\"category\")\n"
   ]
  },
  {
   "cell_type": "markdown",
   "id": "conscious-briefs",
   "metadata": {},
   "source": [
    "'First check' 0 value imputation:\n",
    "* <b>HR_FIRST_EMERG</b>\n",
    "Normal values: 60-90 beats per minute\n",
    "* <b>SAT_02_FIRST_EMERG</b>\n",
    "Normal values: 75-100 mmHg\n",
    "* <b>TA_MAX_FIRST_EMERG</b>\n",
    "Normal values: 80-120 mmHg\n",
    "* <b>TA_MIN_FIRST_EMERG</b>\n",
    "Normal values: 80-120 mmHg\n",
    "* <b>TEMP_FIRST_EMERG</b>\n",
    "Normal values: 36-38 ºC\n",
    "* <b>GLU_FIRST_EMERG</b>\n",
    "Normal values:70-100 mg/dl (3.9-5.6 mmol/l) "
   ]
  },
  {
   "cell_type": "code",
   "execution_count": 175,
   "id": "destroyed-tomorrow",
   "metadata": {},
   "outputs": [
    {
     "data": {
      "text/html": [
       "<div>\n",
       "<style scoped>\n",
       "    .dataframe tbody tr th:only-of-type {\n",
       "        vertical-align: middle;\n",
       "    }\n",
       "\n",
       "    .dataframe tbody tr th {\n",
       "        vertical-align: top;\n",
       "    }\n",
       "\n",
       "    .dataframe thead th {\n",
       "        text-align: right;\n",
       "    }\n",
       "</style>\n",
       "<table border=\"1\" class=\"dataframe\">\n",
       "  <thead>\n",
       "    <tr style=\"text-align: right;\">\n",
       "      <th></th>\n",
       "      <th>HR_FIRST_EMERG</th>\n",
       "      <th>SAT_02_FIRST_EMERG</th>\n",
       "      <th>TA_MAX_FIRST_EMERG</th>\n",
       "      <th>TA_MIN_FIRST_EMERG</th>\n",
       "      <th>TEMP_FIRST_EMERG</th>\n",
       "      <th>GLU_FIRST_EMERG</th>\n",
       "    </tr>\n",
       "  </thead>\n",
       "  <tbody>\n",
       "    <tr>\n",
       "      <th>count</th>\n",
       "      <td>2547.000000</td>\n",
       "      <td>2547.000000</td>\n",
       "      <td>2547.000000</td>\n",
       "      <td>2547.000000</td>\n",
       "      <td>2547.000000</td>\n",
       "      <td>2547.000000</td>\n",
       "    </tr>\n",
       "    <tr>\n",
       "      <th>mean</th>\n",
       "      <td>68.368669</td>\n",
       "      <td>71.680016</td>\n",
       "      <td>83.611700</td>\n",
       "      <td>48.192776</td>\n",
       "      <td>27.646761</td>\n",
       "      <td>2.101296</td>\n",
       "    </tr>\n",
       "    <tr>\n",
       "      <th>std</th>\n",
       "      <td>41.047933</td>\n",
       "      <td>39.150174</td>\n",
       "      <td>65.888122</td>\n",
       "      <td>43.013281</td>\n",
       "      <td>15.850918</td>\n",
       "      <td>21.831461</td>\n",
       "    </tr>\n",
       "    <tr>\n",
       "      <th>min</th>\n",
       "      <td>0.000000</td>\n",
       "      <td>0.000000</td>\n",
       "      <td>0.000000</td>\n",
       "      <td>0.000000</td>\n",
       "      <td>0.000000</td>\n",
       "      <td>0.000000</td>\n",
       "    </tr>\n",
       "    <tr>\n",
       "      <th>25%</th>\n",
       "      <td>57.000000</td>\n",
       "      <td>76.000000</td>\n",
       "      <td>0.000000</td>\n",
       "      <td>0.000000</td>\n",
       "      <td>35.000000</td>\n",
       "      <td>0.000000</td>\n",
       "    </tr>\n",
       "    <tr>\n",
       "      <th>50%</th>\n",
       "      <td>82.000000</td>\n",
       "      <td>93.000000</td>\n",
       "      <td>115.000000</td>\n",
       "      <td>64.000000</td>\n",
       "      <td>36.300000</td>\n",
       "      <td>0.000000</td>\n",
       "    </tr>\n",
       "    <tr>\n",
       "      <th>75%</th>\n",
       "      <td>97.000000</td>\n",
       "      <td>96.000000</td>\n",
       "      <td>138.000000</td>\n",
       "      <td>79.000000</td>\n",
       "      <td>36.900000</td>\n",
       "      <td>0.000000</td>\n",
       "    </tr>\n",
       "    <tr>\n",
       "      <th>max</th>\n",
       "      <td>190.000000</td>\n",
       "      <td>99.000000</td>\n",
       "      <td>220.000000</td>\n",
       "      <td>845.000000</td>\n",
       "      <td>40.100000</td>\n",
       "      <td>448.000000</td>\n",
       "    </tr>\n",
       "  </tbody>\n",
       "</table>\n",
       "</div>"
      ],
      "text/plain": [
       "       HR_FIRST_EMERG  SAT_02_FIRST_EMERG  TA_MAX_FIRST_EMERG  \\\n",
       "count     2547.000000         2547.000000         2547.000000   \n",
       "mean        68.368669           71.680016           83.611700   \n",
       "std         41.047933           39.150174           65.888122   \n",
       "min          0.000000            0.000000            0.000000   \n",
       "25%         57.000000           76.000000            0.000000   \n",
       "50%         82.000000           93.000000          115.000000   \n",
       "75%         97.000000           96.000000          138.000000   \n",
       "max        190.000000           99.000000          220.000000   \n",
       "\n",
       "       TA_MIN_FIRST_EMERG  TEMP_FIRST_EMERG  GLU_FIRST_EMERG  \n",
       "count         2547.000000       2547.000000      2547.000000  \n",
       "mean            48.192776         27.646761         2.101296  \n",
       "std             43.013281         15.850918        21.831461  \n",
       "min              0.000000          0.000000         0.000000  \n",
       "25%              0.000000         35.000000         0.000000  \n",
       "50%             64.000000         36.300000         0.000000  \n",
       "75%             79.000000         36.900000         0.000000  \n",
       "max            845.000000         40.100000       448.000000  "
      ]
     },
     "execution_count": 175,
     "metadata": {},
     "output_type": "execute_result"
    }
   ],
   "source": [
    "df_patient[columns_first_check].describe()"
   ]
  },
  {
   "cell_type": "code",
   "execution_count": 190,
   "id": "obvious-signal",
   "metadata": {},
   "outputs": [
    {
     "name": "stdout",
     "output_type": "stream",
     "text": [
      "Number of 0's:\n",
      "* HR_FIRST_EMERG \t607 (23.8%)\n",
      "* SAT_02_FIRST_EMERG \t574 (22.5%)\n",
      "* TA_MAX_FIRST_EMERG \t927 (36.4%)\n",
      "* TA_MIN_FIRST_EMERG \t928 (36.4%)\n",
      "* TEMP_FIRST_EMERG \t629 (24.7%)\n",
      "* GLU_FIRST_EMERG \t2519 (98.9%)\n"
     ]
    }
   ],
   "source": [
    "print(\"Number of 0's:\")\n",
    "print(\"* HR_FIRST_EMERG \\t{} ({:.3}%)\".format(sum(df_patient['HR_FIRST_EMERG']==0),sum(df_patient['HR_FIRST_EMERG']==0)/df_patient.shape[0]*100))\n",
    "print(\"* SAT_02_FIRST_EMERG \\t{} ({:.3}%)\".format(sum(df_patient['SAT_02_FIRST_EMERG']==0),sum(df_patient['SAT_02_FIRST_EMERG']==0)/df_patient.shape[0]*100))\n",
    "print(\"* TA_MAX_FIRST_EMERG \\t{} ({:.3}%)\".format(sum(df_patient['TA_MAX_FIRST_EMERG']==0),sum(df_patient['TA_MAX_FIRST_EMERG']==0)/df_patient.shape[0]*100))\n",
    "print(\"* TA_MIN_FIRST_EMERG \\t{} ({:.3}%)\".format(sum(df_patient['TA_MIN_FIRST_EMERG']==0),sum(df_patient['TA_MIN_FIRST_EMERG']==0)/df_patient.shape[0]*100))\n",
    "print(\"* TEMP_FIRST_EMERG \\t{} ({:.3}%)\".format(sum(df_patient['TEMP_FIRST_EMERG']==0),sum(df_patient['TEMP_FIRST_EMERG']==0)/df_patient.shape[0]*100))\n",
    "print(\"* GLU_FIRST_EMERG \\t{} ({:.3}%)\".format(sum(df_patient['GLU_FIRST_EMERG']==0),sum(df_patient['GLU_FIRST_EMERG']==0)/df_patient.shape[0]*100))"
   ]
  },
  {
   "cell_type": "code",
   "execution_count": 214,
   "id": "toxic-azerbaijan",
   "metadata": {},
   "outputs": [
    {
     "data": {
      "image/png": "[encoded data removed]",
      "text/plain": [
       "<Figure size 1152x576 with 6 Axes>"
      ]
     },
     "metadata": {
      "needs_background": "light"
     },
     "output_type": "display_data"
    }
   ],
   "source": [
    "columns_first_check = ['HR_FIRST_EMERG', 'SAT_02_FIRST_EMERG', 'TA_MAX_FIRST_EMERG', 'TA_MIN_FIRST_EMERG',\n",
    "                       'TEMP_FIRST_EMERG', 'GLU_FIRST_EMERG']\n",
    "custom_plot(df_patient, columns_first_check, 2, 3, '0 value density for \"first check\" columns histograms')"
   ]
  },
  {
   "cell_type": "code",
   "execution_count": 215,
   "id": "presidential-andorra",
   "metadata": {},
   "outputs": [
    {
     "data": {
      "text/html": [
       "<div>\n",
       "<style scoped>\n",
       "    .dataframe tbody tr th:only-of-type {\n",
       "        vertical-align: middle;\n",
       "    }\n",
       "\n",
       "    .dataframe tbody tr th {\n",
       "        vertical-align: top;\n",
       "    }\n",
       "\n",
       "    .dataframe thead th {\n",
       "        text-align: right;\n",
       "    }\n",
       "</style>\n",
       "<table border=\"1\" class=\"dataframe\">\n",
       "  <thead>\n",
       "    <tr style=\"text-align: right;\">\n",
       "      <th></th>\n",
       "      <th>HR_FIRST_EMERG</th>\n",
       "      <th>SAT_02_FIRST_EMERG</th>\n",
       "      <th>TA_MAX_FIRST_EMERG</th>\n",
       "      <th>TA_MIN_FIRST_EMERG</th>\n",
       "      <th>TEMP_FIRST_EMERG</th>\n",
       "      <th>GLU_FIRST_EMERG</th>\n",
       "    </tr>\n",
       "  </thead>\n",
       "  <tbody>\n",
       "    <tr>\n",
       "      <th>count</th>\n",
       "      <td>2547.000000</td>\n",
       "      <td>2547.000000</td>\n",
       "      <td>2547.000000</td>\n",
       "      <td>2547.000000</td>\n",
       "      <td>2547.000000</td>\n",
       "      <td>2547.000000</td>\n",
       "    </tr>\n",
       "    <tr>\n",
       "      <th>mean</th>\n",
       "      <td>68.368669</td>\n",
       "      <td>71.680016</td>\n",
       "      <td>83.611700</td>\n",
       "      <td>48.192776</td>\n",
       "      <td>27.646761</td>\n",
       "      <td>2.101296</td>\n",
       "    </tr>\n",
       "    <tr>\n",
       "      <th>std</th>\n",
       "      <td>41.047933</td>\n",
       "      <td>39.150174</td>\n",
       "      <td>65.888122</td>\n",
       "      <td>43.013281</td>\n",
       "      <td>15.850918</td>\n",
       "      <td>21.831461</td>\n",
       "    </tr>\n",
       "    <tr>\n",
       "      <th>min</th>\n",
       "      <td>0.000000</td>\n",
       "      <td>0.000000</td>\n",
       "      <td>0.000000</td>\n",
       "      <td>0.000000</td>\n",
       "      <td>0.000000</td>\n",
       "      <td>0.000000</td>\n",
       "    </tr>\n",
       "    <tr>\n",
       "      <th>25%</th>\n",
       "      <td>57.000000</td>\n",
       "      <td>76.000000</td>\n",
       "      <td>0.000000</td>\n",
       "      <td>0.000000</td>\n",
       "      <td>35.000000</td>\n",
       "      <td>0.000000</td>\n",
       "    </tr>\n",
       "    <tr>\n",
       "      <th>50%</th>\n",
       "      <td>82.000000</td>\n",
       "      <td>93.000000</td>\n",
       "      <td>115.000000</td>\n",
       "      <td>64.000000</td>\n",
       "      <td>36.300000</td>\n",
       "      <td>0.000000</td>\n",
       "    </tr>\n",
       "    <tr>\n",
       "      <th>75%</th>\n",
       "      <td>97.000000</td>\n",
       "      <td>96.000000</td>\n",
       "      <td>138.000000</td>\n",
       "      <td>79.000000</td>\n",
       "      <td>36.900000</td>\n",
       "      <td>0.000000</td>\n",
       "    </tr>\n",
       "    <tr>\n",
       "      <th>max</th>\n",
       "      <td>190.000000</td>\n",
       "      <td>99.000000</td>\n",
       "      <td>220.000000</td>\n",
       "      <td>845.000000</td>\n",
       "      <td>40.100000</td>\n",
       "      <td>448.000000</td>\n",
       "    </tr>\n",
       "  </tbody>\n",
       "</table>\n",
       "</div>"
      ],
      "text/plain": [
       "       HR_FIRST_EMERG  SAT_02_FIRST_EMERG  TA_MAX_FIRST_EMERG  \\\n",
       "count     2547.000000         2547.000000         2547.000000   \n",
       "mean        68.368669           71.680016           83.611700   \n",
       "std         41.047933           39.150174           65.888122   \n",
       "min          0.000000            0.000000            0.000000   \n",
       "25%         57.000000           76.000000            0.000000   \n",
       "50%         82.000000           93.000000          115.000000   \n",
       "75%         97.000000           96.000000          138.000000   \n",
       "max        190.000000           99.000000          220.000000   \n",
       "\n",
       "       TA_MIN_FIRST_EMERG  TEMP_FIRST_EMERG  GLU_FIRST_EMERG  \n",
       "count         2547.000000       2547.000000      2547.000000  \n",
       "mean            48.192776         27.646761         2.101296  \n",
       "std             43.013281         15.850918        21.831461  \n",
       "min              0.000000          0.000000         0.000000  \n",
       "25%              0.000000         35.000000         0.000000  \n",
       "50%             64.000000         36.300000         0.000000  \n",
       "75%             79.000000         36.900000         0.000000  \n",
       "max            845.000000         40.100000       448.000000  "
      ]
     },
     "execution_count": 215,
     "metadata": {},
     "output_type": "execute_result"
    }
   ],
   "source": [
    "df_patient[columns_first_check].describe()"
   ]
  },
  {
   "cell_type": "code",
   "execution_count": 216,
   "id": "atlantic-serve",
   "metadata": {},
   "outputs": [
    {
     "data": {
      "text/plain": [
       "2"
      ]
     },
     "execution_count": 216,
     "metadata": {},
     "output_type": "execute_result"
    }
   ],
   "source": [
    "sum(df_patient['TA_MIN_FIRST_EMERG']>200)"
   ]
  },
  {
   "cell_type": "markdown",
   "id": "lesser-compression",
   "metadata": {},
   "source": [
    "Full of outliers and 0 values.\n",
    "\n",
    "Outlier removal."
   ]
  },
  {
   "cell_type": "code",
   "execution_count": 128,
   "id": "humanitarian-papua",
   "metadata": {},
   "outputs": [],
   "source": [
    "z_scores = stats.zscore(df_patient[columns_first_check])\n",
    "abs_z_scores = np.abs(z_scores)\n",
    "filtered_entries = (abs_z_scores < 3).all(axis=1)\n",
    "df_patient = df_patient[filtered_entries]"
   ]
  }
 ],
 "metadata": {
  "kernelspec": {
   "display_name": "Python 3",
   "language": "python",
   "name": "python3"
  },
  "language_info": {
   "codemirror_mode": {
    "name": "ipython",
    "version": 3
   },
   "file_extension": ".py",
   "mimetype": "text/x-python",
   "name": "python",
   "nbconvert_exporter": "python",
   "pygments_lexer": "ipython3",
   "version": "3.8.5"
  },
  "toc": {
   "base_numbering": 1,
   "nav_menu": {},
   "number_sections": true,
   "sideBar": true,
   "skip_h1_title": false,
   "title_cell": "Table of Contents",
   "title_sidebar": "Contents",
   "toc_cell": false,
   "toc_position": {},
   "toc_section_display": true,
   "toc_window_display": false
  }
 },
 "nbformat": 4,
 "nbformat_minor": 5
}
