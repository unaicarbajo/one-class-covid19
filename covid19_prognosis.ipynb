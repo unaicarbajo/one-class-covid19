{
 "cells": [
  {
   "cell_type": "code",
   "execution_count": 1,
   "id": "mediterranean-seafood",
   "metadata": {},
   "outputs": [],
   "source": [
    "import pandas as pd\n",
    "import sklearn\n",
    "import matplotlib.pyplot as plt\n",
    "import numpy as np"
   ]
  },
  {
   "cell_type": "code",
   "execution_count": 2,
   "id": "developed-seminar",
   "metadata": {},
   "outputs": [],
   "source": [
    "root_folder = '../CDSL_HM_20200720_RAW'"
   ]
  },
  {
   "cell_type": "markdown",
   "id": "assumed-spirit",
   "metadata": {},
   "source": [
    "TODO: informacion de los datos"
   ]
  },
  {
   "cell_type": "code",
   "execution_count": 104,
   "id": "colored-participation",
   "metadata": {},
   "outputs": [],
   "source": [
    "def set_display_range(range_columns=pd.options.display.max_columns, range_rows=pd.options.display.max_rows, reset_columns=0, reset_rows=0):\n",
    "    pd.set_option('display.max_columns', range_columns)\n",
    "    pd.set_option('display.max_rows', range_rows)\n",
    "    if (reset_columns): pd.reset_option('display.max_columns')\n",
    "    if (reset_rows): pd.reset_option('display.max_rows')\n",
    "\n",
    "set_display_range(range_columns=None)"
   ]
  },
  {
   "cell_type": "code",
   "execution_count": 4,
   "id": "employed-memorial",
   "metadata": {},
   "outputs": [],
   "source": [
    "def column_percentage(df, column, main_label):\n",
    "    try:\n",
    "        return len(df.loc[df[column]==main_label])/len(df)\n",
    "    except:\n",
    "        return -1"
   ]
  },
  {
   "cell_type": "code",
   "execution_count": 169,
   "id": "deluxe-portfolio",
   "metadata": {},
   "outputs": [],
   "source": [
    "# CDSL_01\n",
    "df_patient = pd.read_csv(root_folder+'/CDSL_01.csv', sep=';')\n",
    "# CDSL_02\n",
    "df_med = pd.read_csv(root_folder+'/CDSL_02.csv', sep=';')#, encoding='iso-8859-1')\n",
    "# CDSL_03\n",
    "df_vital = pd.read_csv(root_folder+'/CDSL_03.csv', sep=';')\n",
    "# CDSL_05 (emergency)\n",
    "df_ICD10_emer = pd.read_csv(root_folder+'/CDSL_05.csv', sep=';')\n",
    "# CDSL_06  (admission)\n",
    "df_ICD10_adm = pd.read_csv(root_folder+'/CDSL_06.csv', sep=';')"
   ]
  },
  {
   "cell_type": "code",
   "execution_count": 6,
   "id": "permanent-equivalent",
   "metadata": {},
   "outputs": [
    {
     "name": "stderr",
     "output_type": "stream",
     "text": [
      "b'Skipping line 28039: expected 8 fields, saw 12\\nSkipping line 32182: expected 8 fields, saw 12\\nSkipping line 44299: expected 8 fields, saw 12\\n'\n",
      "b'Skipping line 90790: expected 8 fields, saw 12\\nSkipping line 105234: expected 8 fields, saw 12\\nSkipping line 130735: expected 8 fields, saw 10\\n'\n",
      "b'Skipping line 136659: expected 8 fields, saw 10\\nSkipping line 140398: expected 8 fields, saw 10\\nSkipping line 141687: expected 8 fields, saw 12\\nSkipping line 142745: expected 8 fields, saw 12\\nSkipping line 170183: expected 8 fields, saw 12\\n'\n",
      "b'Skipping line 223336: expected 8 fields, saw 21\\nSkipping line 237392: expected 8 fields, saw 12\\n'\n",
      "b'Skipping line 373889: expected 8 fields, saw 12\\nSkipping line 382978: expected 8 fields, saw 10\\n'\n",
      "b'Skipping line 412136: expected 8 fields, saw 12\\nSkipping line 419764: expected 8 fields, saw 12\\nSkipping line 421226: expected 8 fields, saw 12\\nSkipping line 426429: expected 8 fields, saw 11\\nSkipping line 444865: expected 8 fields, saw 12\\n'\n",
      "b'Skipping line 470999: expected 8 fields, saw 12\\n'\n",
      "b'Skipping line 524605: expected 8 fields, saw 12\\nSkipping line 534535: expected 8 fields, saw 12\\nSkipping line 546968: expected 8 fields, saw 12\\nSkipping line 564430: expected 8 fields, saw 12\\n'\n"
     ]
    }
   ],
   "source": [
    "# CDSL_04\n",
    "df_lab = pd.read_csv(root_folder+'/CDSL_04.csv', sep=';', error_bad_lines=False, encoding='iso-8859-1')"
   ]
  },
  {
   "cell_type": "code",
   "execution_count": 170,
   "id": "skilled-significance",
   "metadata": {},
   "outputs": [],
   "source": [
    "df_patient = df_patient.rename(columns=\n",
    "                        {\"PATIENT ID\":\"PATIENT_ID\", \"EDAD/AGE\":\"AGE\", \"SEXO/SEX\":\"SEX\", \"DIAG ING/INPAT\":\"DIAG_INPAT\", \n",
    "                        \"F_INGRESO/ADMISSION_D_ING/INPAT\":\"ADMISSION_DATE_INPAT\",\"HORA/TIME_ADMISION/ADMISSION_URG/EMERG\":\n",
    "                         \"TIME_ADMISSION_EMERG\",\"F_ENTRADA_UC/ICU_DATE_IN\":\"ICU_DATE_IN\", \n",
    "                        \"F_SALIDA_UCI/ICU_DATE_OUT\":\"ICU_DATE_OUT\",\"UCI_DIAS/ICU_DAYS\": \"ICU_DAYS\", \n",
    "                        \"RESPIRADOR/MECH.VENT.\":\"MECH.VENT.\", \"F_ALTA/DISCHARGE_DATE_ING\":\"DISCHARGE_DATE_ING\", \n",
    "                        \"MOTIVO_ALTA/DESTINY_DISCHARGE_ING\":\"DESTINY_DISCHARGE_ING\",\"F_INGRESO/ADMISSION_DATE_URG/EMERG\":\n",
    "                        \"ADMISSION_DATE_EMERG\", \"HORA/TIME_ADMISION/ADMISSION_EMERG/EMERG\":\"TIME_ADMISION_EMERG\", \n",
    "                        \"ESPECIALIDAD/DEPARTMENT_URG/EMERG\":\"DEPARTMENT_EMERG\",\"DIAG_URG/EMERG\":\"DIAG_EMERG\", \n",
    "                        \"DESTINO/DESTINY_URG/EMERG\":\"DESTINY_EMERG\", \"HORA/TIME_CONSTANT_PRIMERA/FIRST_URG/EMERG\" : \n",
    "                        \"TIME_CONSTANT_FIRST_EMERG\", \"TEMP_PRIMERA/FIRST_URG/EMERG\":\"TEMP_FIRST_EMERG\", \"FC/HR_PRIMERA/FIRST_URG/EMERG\": \n",
    "                        \"HR_FIRST_EMERG\", \"GLU_PRIMERA/FIRST_URG/EMERG\":\"GLU_FIRST_EMERG\", \"SAT_02_PRIMERA/FIRST_URG/EMERG\":\n",
    "                        \"SAT_02_FIRST_EMERG\", \"TA_MAX_PRIMERA/FIRST/EMERG_URG\":\"TA_MAX_FIRST_EMERG\", \"TA_MIN_PRIMERA/FIRST_URG/EMERG\":\n",
    "                        \"TA_MIN_FIRST_EMERG\", \"HORA/TIME_CONSTANT_ULTIMA/LAST_URG/EMERG\":\"TIME_CONSTANT_LAST_EMERG\", \n",
    "                        \"FC/HR_ULTIMA/LAST_URG/EMERG\":\"HR_LAST_EMERG\", \"TEMP_ULTIMA/LAST_URG/EMERG\":\"TEMP_LAST_EMERG\", \n",
    "                        \"GLU_ULTIMA/LAST_URG/EMERG\":\"GLU_LAST_EMERG\", \"SAT_02_ULTIMA/LAST_URG/EMERG\":\"SAT_02_LAST_EMERG\", \n",
    "                        \"TA_MAX_ULTIMA/LAST_URGEMERG\":\"TA_MAX_LAST_EMERG\", \"TA_MIN_ULTIMA/LAST_URG/EMERG\":\"TA_MIN_LAST_EMERG\"})\n",
    "\n",
    "custom_columns = ['PATIENT_ID', 'AGE', 'SEX', \n",
    "                  'DIAG_INPAT', 'ADMISSION_DATE_INPAT',\n",
    "                  'ADMISSION_DATE_EMERG','DISCHARGE_DATE_ING','TIME_ADMISSION_EMERG', \n",
    "                  'DEPARTMENT_EMERG', 'DIAG_EMERG','DESTINY_EMERG',\n",
    "                  'ICU_DATE_IN', 'ICU_DATE_OUT','ICU_DAYS', \n",
    "                  'MECH.VENT.', 'TIME_CONSTANT_FIRST_EMERG', 'TIME_CONSTANT_LAST_EMERG', \n",
    "                  'HR_FIRST_EMERG','HR_LAST_EMERG',\n",
    "                  'SAT_02_FIRST_EMERG', 'SAT_02_LAST_EMERG',\n",
    "                  'TA_MAX_FIRST_EMERG','TA_MAX_LAST_EMERG',\n",
    "                  'TA_MIN_FIRST_EMERG','TA_MIN_LAST_EMERG', \n",
    "                  'TEMP_FIRST_EMERG','TEMP_LAST_EMERG',\n",
    "                  'GLU_FIRST_EMERG','GLU_LAST_EMERG',\n",
    "                  'DESTINY_DISCHARGE_ING']\n",
    "\n",
    "df_patient = df_patient.reindex(columns=custom_columns)"
   ]
  },
  {
   "cell_type": "code",
   "execution_count": 171,
   "id": "reliable-compilation",
   "metadata": {},
   "outputs": [
    {
     "data": {
      "text/plain": [
       "228"
      ]
     },
     "execution_count": 171,
     "metadata": {},
     "output_type": "execute_result"
    }
   ],
   "source": [
    "# EXPERIMENTACION\n",
    "# TODAS LAS FILAS QUE CONTIENEN ALGO DE ICU TIENEN LAS 3 COLUMNAS COMPLETAS\n",
    "len(df_patient[(~df_patient['ICU_DATE_IN'].isnull())&(~df_patient['ICU_DATE_OUT'].isnull())&(~df_patient['ICU_DAYS'].isnull())])"
   ]
  },
  {
   "cell_type": "code",
   "execution_count": 181,
   "id": "mature-creation",
   "metadata": {},
   "outputs": [
    {
     "name": "stdout",
     "output_type": "stream",
     "text": [
      "MALE/FEMALE %: 0.59%\n",
      "CONFIRMED COVID/SUSPECTED COVID %: 0.91%\n",
      "DECEASED/OTHERWISE %: 0.15%\n",
      "Inpatients without being in ER: 90. Inpatients being in ER: 2457\n"
     ]
    }
   ],
   "source": [
    "print(\"MALE/FEMALE %: {:.2f}%\".format(column_percentage(df_patient,'SEX','MALE')))\n",
    "print(\"CONFIRMED COVID/SUSPECTED COVID %: {:.2f}%\".format(column_percentage(df_patient,'DIAG_INPAT','COVID CONFIRMADO')))\n",
    "print(\"DECEASED/OTHERWISE %: {:.2f}%\".format(column_percentage(df_patient,'DESTINY_DISCHARGE_ING','Fallecimiento')))\n",
    "print(\"Inpatients without being in ER: {}. Inpatients being in ER: {}\".format(\\\n",
    "      df_patient.shape[0] - len(df_patient[~df_patient['ADMISSION_DATE_EMERG'].isnull()]), \\\n",
    "      len(df_patient[~df_patient['ADMISSION_DATE_EMERG'].isnull()])))"
   ]
  },
  {
   "cell_type": "code",
   "execution_count": 172,
   "id": "electric-salad",
   "metadata": {},
   "outputs": [],
   "source": [
    "# Create ICU feature\n",
    "df_patient['ICU']=0\n",
    "df_patient.loc[~df_patient['ICU_DAYS'].isnull(),['ICU']]=1\n",
    "# Create ER feature\n",
    "df_patient['ER']=0\n",
    "df_patient.loc[~df_patient['ADMISSION_DATE_EMERG'].isnull(),['ER']]=1"
   ]
  },
  {
   "cell_type": "code",
   "execution_count": 173,
   "id": "packed-theory",
   "metadata": {},
   "outputs": [],
   "source": [
    "# REMOVE COLUMNS OF DATES (WHY USE THEM?)\n",
    "# REMOVE LAST CHECK COLUMNS (?)\n",
    "df_patient = df_patient.drop(columns=['ICU_DATE_IN','ICU_DATE_OUT','ICU_DAYS','TIME_ADMISSION_EMERG',\n",
    "                                      'DISCHARGE_DATE_ING','TIME_CONSTANT_LAST_EMERG', 'HR_LAST_EMERG',\n",
    "                                      'SAT_02_LAST_EMERG', 'TA_MIN_LAST_EMERG', 'TA_MAX_LAST_EMERG',\n",
    "                                      'TEMP_LAST_EMERG', 'GLU_LAST_EMERG'])\n"
   ]
  },
  {
   "cell_type": "code",
   "execution_count": 177,
   "id": "regional-imperial",
   "metadata": {},
   "outputs": [
    {
     "name": "stdout",
     "output_type": "stream",
     "text": [
      "<class 'pandas.core.frame.DataFrame'>\n",
      "RangeIndex: 2547 entries, 0 to 2546\n",
      "Data columns (total 20 columns):\n",
      " #   Column                     Non-Null Count  Dtype   \n",
      "---  ------                     --------------  -----   \n",
      " 0   PATIENT_ID                 2547 non-null   int64   \n",
      " 1   AGE                        2547 non-null   int64   \n",
      " 2   SEX                        2547 non-null   object  \n",
      " 3   DIAG_INPAT                 2547 non-null   object  \n",
      " 4   ADMISSION_DATE_INPAT       2547 non-null   object  \n",
      " 5   ADMISSION_DATE_EMERG       2457 non-null   object  \n",
      " 6   DEPARTMENT_EMERG           2547 non-null   category\n",
      " 7   DIAG_EMERG                 2547 non-null   category\n",
      " 8   DESTINY_EMERG              2457 non-null   object  \n",
      " 9   MECH.VENT.                 2547 non-null   category\n",
      " 10  TIME_CONSTANT_FIRST_EMERG  2017 non-null   object  \n",
      " 11  HR_FIRST_EMERG             2547 non-null   int64   \n",
      " 12  SAT_02_FIRST_EMERG         2547 non-null   int64   \n",
      " 13  TA_MAX_FIRST_EMERG         2547 non-null   int64   \n",
      " 14  TA_MIN_FIRST_EMERG         2547 non-null   int64   \n",
      " 15  TEMP_FIRST_EMERG           2547 non-null   float64 \n",
      " 16  GLU_FIRST_EMERG            2547 non-null   int64   \n",
      " 17  DESTINY_DISCHARGE_ING      2498 non-null   object  \n",
      " 18  ICU                        2547 non-null   int64   \n",
      " 19  ER                         2547 non-null   int64   \n",
      "dtypes: category(3), float64(1), int64(9), object(7)\n",
      "memory usage: 348.9+ KB\n"
     ]
    }
   ],
   "source": [
    "df_patient.info()"
   ]
  },
  {
   "cell_type": "code",
   "execution_count": 180,
   "id": "sacred-revelation",
   "metadata": {},
   "outputs": [
    {
     "data": {
      "text/plain": [
       "(2547,)"
      ]
     },
     "execution_count": 180,
     "metadata": {},
     "output_type": "execute_result"
    }
   ],
   "source": [
    "df_patient['PATIENT_ID'].unique().shape"
   ]
  },
  {
   "cell_type": "markdown",
   "id": "southwest-large",
   "metadata": {},
   "source": [
    "IMPUTATION"
   ]
  },
  {
   "cell_type": "code",
   "execution_count": 175,
   "id": "clean-dimension",
   "metadata": {},
   "outputs": [],
   "source": [
    "# DIAG_EMERG\n",
    "df_patient['DIAG_EMERG']=df_patient['DIAG_EMERG'].fillna(value='Unknown')\n",
    "df_patient['DIAG_EMERG']=df_patient['DIAG_EMERG'].astype(\"category\")\n",
    "# MECHANICAL VENTILATION\n",
    "df_patient['MECH.VENT.']=df_patient['MECH.VENT.'].fillna(value='NO')\n",
    "df_patient['MECH.VENT.']=df_patient['MECH.VENT.'].astype(\"category\")\n",
    "# MECHANICAL VENTILATION\n",
    "df_patient['DEPARTMENT_EMERG']=df_patient['DEPARTMENT_EMERG'].fillna(value='Unknown')\n",
    "df_patient['DEPARTMENT_EMERG']=df_patient['DEPARTMENT_EMERG'].astype(\"category\")\n",
    "# DESTINY_EMERG\n",
    "#df_patient['DESTINY_EMERG']=df_patient['DESTINY_EMERG'].fillna(value='Unknown')\n",
    "#df_patient['DESTINY_EMERG']=df_patient['DESTINY_EMERG'].astype(\"category\")\n"
   ]
  }
 ],
 "metadata": {
  "kernelspec": {
   "display_name": "Python 3",
   "language": "python",
   "name": "python3"
  },
  "language_info": {
   "codemirror_mode": {
    "name": "ipython",
    "version": 3
   },
   "file_extension": ".py",
   "mimetype": "text/x-python",
   "name": "python",
   "nbconvert_exporter": "python",
   "pygments_lexer": "ipython3",
   "version": "3.8.5"
  }
 },
 "nbformat": 4,
 "nbformat_minor": 5
}
